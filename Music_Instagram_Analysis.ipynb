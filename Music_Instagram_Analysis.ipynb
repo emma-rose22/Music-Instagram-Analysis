{
  "nbformat": 4,
  "nbformat_minor": 0,
  "metadata": {
    "colab": {
      "name": "Music Instagram Analysis",
      "provenance": [],
      "include_colab_link": true
    },
    "kernelspec": {
      "name": "python3",
      "display_name": "Python 3"
    }
  },
  "cells": [
    {
      "cell_type": "markdown",
      "metadata": {
        "id": "view-in-github",
        "colab_type": "text"
      },
      "source": [
        "<a href=\"https://colab.research.google.com/github/emma-rose22/Music-Instagram-Analysis/blob/master/Music_Instagram_Analysis.ipynb\" target=\"_parent\"><img src=\"https://colab.research.google.com/assets/colab-badge.svg\" alt=\"Open In Colab\"/></a>"
      ]
    },
    {
      "cell_type": "code",
      "metadata": {
        "id": "R_yuxsT83FyU",
        "colab_type": "code",
        "colab": {}
      },
      "source": [
        "import pandas as pd\n",
        "import numpy as np\n",
        "import matplotlib.pyplot as plt\n",
        "from matplotlib.pyplot import figure\n",
        "from matplotlib import pyplot\n",
        "import seaborn as sns"
      ],
      "execution_count": 0,
      "outputs": []
    },
    {
      "cell_type": "code",
      "metadata": {
        "id": "-2NUKLO1sG3v",
        "colab_type": "code",
        "colab": {
          "base_uri": "https://localhost:8080/",
          "height": 306
        },
        "outputId": "dceef488-700a-4c13-ca44-2a680635a613"
      },
      "source": [
        "tours = pd.read_excel('https://github.com/emma-rose22/Music-Instagram-Analysis/raw/master/2018Top200ToursE.xlsx')\n",
        "tours.to_csv('2018Top200Tours.csv', encoding='utf-8')\n",
        "tours.head()"
      ],
      "execution_count": 204,
      "outputs": [
        {
          "output_type": "execute_result",
          "data": {
            "text/html": [
              "<div>\n",
              "<style scoped>\n",
              "    .dataframe tbody tr th:only-of-type {\n",
              "        vertical-align: middle;\n",
              "    }\n",
              "\n",
              "    .dataframe tbody tr th {\n",
              "        vertical-align: top;\n",
              "    }\n",
              "\n",
              "    .dataframe thead th {\n",
              "        text-align: right;\n",
              "    }\n",
              "</style>\n",
              "<table border=\"1\" class=\"dataframe\">\n",
              "  <thead>\n",
              "    <tr style=\"text-align: right;\">\n",
              "      <th></th>\n",
              "      <th>Rank</th>\n",
              "      <th>Gross Millions</th>\n",
              "      <th>Artist</th>\n",
              "      <th>Average Ticket Price</th>\n",
              "      <th>Average Tickets</th>\n",
              "      <th>Total Tickets</th>\n",
              "      <th>Average Gross</th>\n",
              "      <th>Cities/Shows</th>\n",
              "      <th>Agency</th>\n",
              "      <th>Number of Members</th>\n",
              "      <th>Instagram Followers</th>\n",
              "      <th>Years Active</th>\n",
              "    </tr>\n",
              "  </thead>\n",
              "  <tbody>\n",
              "    <tr>\n",
              "      <th>0</th>\n",
              "      <td>1</td>\n",
              "      <td>277.3</td>\n",
              "      <td>Taylor Swift</td>\n",
              "      <td>124.99</td>\n",
              "      <td>80322</td>\n",
              "      <td>2168706</td>\n",
              "      <td>10271531.0</td>\n",
              "      <td>27/40</td>\n",
              "      <td>Messina Touring Group</td>\n",
              "      <td>1.0</td>\n",
              "      <td>122000000.0</td>\n",
              "      <td>15.0</td>\n",
              "    </tr>\n",
              "    <tr>\n",
              "      <th>1</th>\n",
              "      <td>2</td>\n",
              "      <td>166.4</td>\n",
              "      <td>Jay-Z / Beyonce</td>\n",
              "      <td>128.23</td>\n",
              "      <td>54085</td>\n",
              "      <td>1298038</td>\n",
              "      <td>6935409.0</td>\n",
              "      <td>24/30</td>\n",
              "      <td>Live Nation</td>\n",
              "      <td>2.0</td>\n",
              "      <td>135000000.0</td>\n",
              "      <td>27.0</td>\n",
              "    </tr>\n",
              "    <tr>\n",
              "      <th>2</th>\n",
              "      <td>3</td>\n",
              "      <td>166.0</td>\n",
              "      <td>Eagles</td>\n",
              "      <td>172.13</td>\n",
              "      <td>21428</td>\n",
              "      <td>964245</td>\n",
              "      <td>3688308.0</td>\n",
              "      <td>45/53</td>\n",
              "      <td>Creative Artists Agency</td>\n",
              "      <td>3.0</td>\n",
              "      <td>NaN</td>\n",
              "      <td>34.0</td>\n",
              "    </tr>\n",
              "    <tr>\n",
              "      <th>3</th>\n",
              "      <td>4</td>\n",
              "      <td>114.4</td>\n",
              "      <td>Kenny Chesney</td>\n",
              "      <td>88.15</td>\n",
              "      <td>32443</td>\n",
              "      <td>1297731</td>\n",
              "      <td>2860007.0</td>\n",
              "      <td>40/42</td>\n",
              "      <td>Dale Morris &amp; Associates</td>\n",
              "      <td>1.0</td>\n",
              "      <td>1300000.0</td>\n",
              "      <td>31.0</td>\n",
              "    </tr>\n",
              "    <tr>\n",
              "      <th>4</th>\n",
              "      <td>5</td>\n",
              "      <td>110.0</td>\n",
              "      <td>Justin Timberlake</td>\n",
              "      <td>138.87</td>\n",
              "      <td>19795</td>\n",
              "      <td>791780</td>\n",
              "      <td>2748832.0</td>\n",
              "      <td>40/50</td>\n",
              "      <td>WME</td>\n",
              "      <td>1.0</td>\n",
              "      <td>56600000.0</td>\n",
              "      <td>27.0</td>\n",
              "    </tr>\n",
              "  </tbody>\n",
              "</table>\n",
              "</div>"
            ],
            "text/plain": [
              "   Rank  Gross Millions  ... Instagram Followers  Years Active\n",
              "0     1           277.3  ...         122000000.0          15.0\n",
              "1     2           166.4  ...         135000000.0          27.0\n",
              "2     3           166.0  ...                 NaN          34.0\n",
              "3     4           114.4  ...           1300000.0          31.0\n",
              "4     5           110.0  ...          56600000.0          27.0\n",
              "\n",
              "[5 rows x 12 columns]"
            ]
          },
          "metadata": {
            "tags": []
          },
          "execution_count": 204
        }
      ]
    },
    {
      "cell_type": "markdown",
      "metadata": {
        "id": "0HSiNPMEv0AX",
        "colab_type": "text"
      },
      "source": [
        "##Workspace for original dataframe"
      ]
    },
    {
      "cell_type": "code",
      "metadata": {
        "id": "8lI1rET1RnIU",
        "colab_type": "code",
        "outputId": "c42bb10c-b1b3-4534-e406-b607596bd38f",
        "colab": {
          "base_uri": "https://localhost:8080/",
          "height": 306
        }
      },
      "source": [
        "#Lets take a peek\n",
        "tours.head()"
      ],
      "execution_count": 205,
      "outputs": [
        {
          "output_type": "execute_result",
          "data": {
            "text/html": [
              "<div>\n",
              "<style scoped>\n",
              "    .dataframe tbody tr th:only-of-type {\n",
              "        vertical-align: middle;\n",
              "    }\n",
              "\n",
              "    .dataframe tbody tr th {\n",
              "        vertical-align: top;\n",
              "    }\n",
              "\n",
              "    .dataframe thead th {\n",
              "        text-align: right;\n",
              "    }\n",
              "</style>\n",
              "<table border=\"1\" class=\"dataframe\">\n",
              "  <thead>\n",
              "    <tr style=\"text-align: right;\">\n",
              "      <th></th>\n",
              "      <th>Rank</th>\n",
              "      <th>Gross Millions</th>\n",
              "      <th>Artist</th>\n",
              "      <th>Average Ticket Price</th>\n",
              "      <th>Average Tickets</th>\n",
              "      <th>Total Tickets</th>\n",
              "      <th>Average Gross</th>\n",
              "      <th>Cities/Shows</th>\n",
              "      <th>Agency</th>\n",
              "      <th>Number of Members</th>\n",
              "      <th>Instagram Followers</th>\n",
              "      <th>Years Active</th>\n",
              "    </tr>\n",
              "  </thead>\n",
              "  <tbody>\n",
              "    <tr>\n",
              "      <th>0</th>\n",
              "      <td>1</td>\n",
              "      <td>277.3</td>\n",
              "      <td>Taylor Swift</td>\n",
              "      <td>124.99</td>\n",
              "      <td>80322</td>\n",
              "      <td>2168706</td>\n",
              "      <td>10271531.0</td>\n",
              "      <td>27/40</td>\n",
              "      <td>Messina Touring Group</td>\n",
              "      <td>1.0</td>\n",
              "      <td>122000000.0</td>\n",
              "      <td>15.0</td>\n",
              "    </tr>\n",
              "    <tr>\n",
              "      <th>1</th>\n",
              "      <td>2</td>\n",
              "      <td>166.4</td>\n",
              "      <td>Jay-Z / Beyonce</td>\n",
              "      <td>128.23</td>\n",
              "      <td>54085</td>\n",
              "      <td>1298038</td>\n",
              "      <td>6935409.0</td>\n",
              "      <td>24/30</td>\n",
              "      <td>Live Nation</td>\n",
              "      <td>2.0</td>\n",
              "      <td>135000000.0</td>\n",
              "      <td>27.0</td>\n",
              "    </tr>\n",
              "    <tr>\n",
              "      <th>2</th>\n",
              "      <td>3</td>\n",
              "      <td>166.0</td>\n",
              "      <td>Eagles</td>\n",
              "      <td>172.13</td>\n",
              "      <td>21428</td>\n",
              "      <td>964245</td>\n",
              "      <td>3688308.0</td>\n",
              "      <td>45/53</td>\n",
              "      <td>Creative Artists Agency</td>\n",
              "      <td>3.0</td>\n",
              "      <td>NaN</td>\n",
              "      <td>34.0</td>\n",
              "    </tr>\n",
              "    <tr>\n",
              "      <th>3</th>\n",
              "      <td>4</td>\n",
              "      <td>114.4</td>\n",
              "      <td>Kenny Chesney</td>\n",
              "      <td>88.15</td>\n",
              "      <td>32443</td>\n",
              "      <td>1297731</td>\n",
              "      <td>2860007.0</td>\n",
              "      <td>40/42</td>\n",
              "      <td>Dale Morris &amp; Associates</td>\n",
              "      <td>1.0</td>\n",
              "      <td>1300000.0</td>\n",
              "      <td>31.0</td>\n",
              "    </tr>\n",
              "    <tr>\n",
              "      <th>4</th>\n",
              "      <td>5</td>\n",
              "      <td>110.0</td>\n",
              "      <td>Justin Timberlake</td>\n",
              "      <td>138.87</td>\n",
              "      <td>19795</td>\n",
              "      <td>791780</td>\n",
              "      <td>2748832.0</td>\n",
              "      <td>40/50</td>\n",
              "      <td>WME</td>\n",
              "      <td>1.0</td>\n",
              "      <td>56600000.0</td>\n",
              "      <td>27.0</td>\n",
              "    </tr>\n",
              "  </tbody>\n",
              "</table>\n",
              "</div>"
            ],
            "text/plain": [
              "   Rank  Gross Millions  ... Instagram Followers  Years Active\n",
              "0     1           277.3  ...         122000000.0          15.0\n",
              "1     2           166.4  ...         135000000.0          27.0\n",
              "2     3           166.0  ...                 NaN          34.0\n",
              "3     4           114.4  ...           1300000.0          31.0\n",
              "4     5           110.0  ...          56600000.0          27.0\n",
              "\n",
              "[5 rows x 12 columns]"
            ]
          },
          "metadata": {
            "tags": []
          },
          "execution_count": 205
        }
      ]
    },
    {
      "cell_type": "code",
      "metadata": {
        "id": "pVrIoWE7rHbW",
        "colab_type": "code",
        "outputId": "9550b4de-13e6-4dc7-bc16-59fc13f120cb",
        "colab": {
          "base_uri": "https://localhost:8080/",
          "height": 494
        }
      },
      "source": [
        "#excel was convinced some of the ratios of cities to shows were dates\n",
        "#so here I am fixing that manually \n",
        "\n",
        "tours.iloc[30, tours.columns.get_loc('Cities/Shows')] = '17/12'\n",
        "tours.iloc[32, tours.columns.get_loc('Cities/Shows')] = '1/45'\n",
        "tours.iloc[51, tours.columns.get_loc('Cities/Shows')] = '7/4'\n",
        "tours.iloc[83, tours.columns.get_loc('Cities/Shows')] = '30/1'\n",
        "tours.iloc[88, tours.columns.get_loc('Cities/Shows')] = '13/8'\n",
        "tours.iloc[99, tours.columns.get_loc('Cities/Shows')] = '19/6'\n",
        "tours.iloc[67, tours.columns.get_loc('Cities/Shows')] = '11/10'\n",
        "tours.iloc[68, tours.columns.get_loc('Cities/Shows')] = '11/11'\n",
        "tours.iloc[72, tours.columns.get_loc('Cities/Shows')] = '7/4'\n",
        "tours.iloc[75, tours.columns.get_loc('Cities/Shows')] = '11/11'\n",
        "\n",
        "\n",
        "tours.head(10)\n"
      ],
      "execution_count": 206,
      "outputs": [
        {
          "output_type": "execute_result",
          "data": {
            "text/html": [
              "<div>\n",
              "<style scoped>\n",
              "    .dataframe tbody tr th:only-of-type {\n",
              "        vertical-align: middle;\n",
              "    }\n",
              "\n",
              "    .dataframe tbody tr th {\n",
              "        vertical-align: top;\n",
              "    }\n",
              "\n",
              "    .dataframe thead th {\n",
              "        text-align: right;\n",
              "    }\n",
              "</style>\n",
              "<table border=\"1\" class=\"dataframe\">\n",
              "  <thead>\n",
              "    <tr style=\"text-align: right;\">\n",
              "      <th></th>\n",
              "      <th>Rank</th>\n",
              "      <th>Gross Millions</th>\n",
              "      <th>Artist</th>\n",
              "      <th>Average Ticket Price</th>\n",
              "      <th>Average Tickets</th>\n",
              "      <th>Total Tickets</th>\n",
              "      <th>Average Gross</th>\n",
              "      <th>Cities/Shows</th>\n",
              "      <th>Agency</th>\n",
              "      <th>Number of Members</th>\n",
              "      <th>Instagram Followers</th>\n",
              "      <th>Years Active</th>\n",
              "    </tr>\n",
              "  </thead>\n",
              "  <tbody>\n",
              "    <tr>\n",
              "      <th>0</th>\n",
              "      <td>1</td>\n",
              "      <td>277.3</td>\n",
              "      <td>Taylor Swift</td>\n",
              "      <td>124.99</td>\n",
              "      <td>80322</td>\n",
              "      <td>2168706</td>\n",
              "      <td>10271531.0</td>\n",
              "      <td>27/40</td>\n",
              "      <td>Messina Touring Group</td>\n",
              "      <td>1.0</td>\n",
              "      <td>122000000.0</td>\n",
              "      <td>15.0</td>\n",
              "    </tr>\n",
              "    <tr>\n",
              "      <th>1</th>\n",
              "      <td>2</td>\n",
              "      <td>166.4</td>\n",
              "      <td>Jay-Z / Beyonce</td>\n",
              "      <td>128.23</td>\n",
              "      <td>54085</td>\n",
              "      <td>1298038</td>\n",
              "      <td>6935409.0</td>\n",
              "      <td>24/30</td>\n",
              "      <td>Live Nation</td>\n",
              "      <td>2.0</td>\n",
              "      <td>135000000.0</td>\n",
              "      <td>27.0</td>\n",
              "    </tr>\n",
              "    <tr>\n",
              "      <th>2</th>\n",
              "      <td>3</td>\n",
              "      <td>166.0</td>\n",
              "      <td>Eagles</td>\n",
              "      <td>172.13</td>\n",
              "      <td>21428</td>\n",
              "      <td>964245</td>\n",
              "      <td>3688308.0</td>\n",
              "      <td>45/53</td>\n",
              "      <td>Creative Artists Agency</td>\n",
              "      <td>3.0</td>\n",
              "      <td>NaN</td>\n",
              "      <td>34.0</td>\n",
              "    </tr>\n",
              "    <tr>\n",
              "      <th>3</th>\n",
              "      <td>4</td>\n",
              "      <td>114.4</td>\n",
              "      <td>Kenny Chesney</td>\n",
              "      <td>88.15</td>\n",
              "      <td>32443</td>\n",
              "      <td>1297731</td>\n",
              "      <td>2860007.0</td>\n",
              "      <td>40/42</td>\n",
              "      <td>Dale Morris &amp; Associates</td>\n",
              "      <td>1.0</td>\n",
              "      <td>1300000.0</td>\n",
              "      <td>31.0</td>\n",
              "    </tr>\n",
              "    <tr>\n",
              "      <th>4</th>\n",
              "      <td>5</td>\n",
              "      <td>110.0</td>\n",
              "      <td>Justin Timberlake</td>\n",
              "      <td>138.87</td>\n",
              "      <td>19795</td>\n",
              "      <td>791780</td>\n",
              "      <td>2748832.0</td>\n",
              "      <td>40/50</td>\n",
              "      <td>WME</td>\n",
              "      <td>1.0</td>\n",
              "      <td>56600000.0</td>\n",
              "      <td>27.0</td>\n",
              "    </tr>\n",
              "    <tr>\n",
              "      <th>5</th>\n",
              "      <td>6</td>\n",
              "      <td>105.0</td>\n",
              "      <td>Ed Sheeran</td>\n",
              "      <td>92.42</td>\n",
              "      <td>54119</td>\n",
              "      <td>1136497</td>\n",
              "      <td>5001537.0</td>\n",
              "      <td>21/24</td>\n",
              "      <td>Paradigm Talent Agency</td>\n",
              "      <td>1.0</td>\n",
              "      <td>346000.0</td>\n",
              "      <td>15.0</td>\n",
              "    </tr>\n",
              "    <tr>\n",
              "      <th>6</th>\n",
              "      <td>7</td>\n",
              "      <td>97.8</td>\n",
              "      <td>Journey / Def Leppard</td>\n",
              "      <td>97.79</td>\n",
              "      <td>17246</td>\n",
              "      <td>1000272</td>\n",
              "      <td>1686460.0</td>\n",
              "      <td>58/60</td>\n",
              "      <td>CAA / Artist Group International</td>\n",
              "      <td>10.0</td>\n",
              "      <td>823000.0</td>\n",
              "      <td>40.5</td>\n",
              "    </tr>\n",
              "    <tr>\n",
              "      <th>7</th>\n",
              "      <td>8</td>\n",
              "      <td>95.3</td>\n",
              "      <td>Pink</td>\n",
              "      <td>138.46</td>\n",
              "      <td>18120</td>\n",
              "      <td>688558</td>\n",
              "      <td>2508798.0</td>\n",
              "      <td>38/46</td>\n",
              "      <td>Marshall Arts</td>\n",
              "      <td>1.0</td>\n",
              "      <td>7200000.0</td>\n",
              "      <td>24.0</td>\n",
              "    </tr>\n",
              "    <tr>\n",
              "      <th>8</th>\n",
              "      <td>9</td>\n",
              "      <td>88.3</td>\n",
              "      <td>Springsteen On Broadway</td>\n",
              "      <td>508.93</td>\n",
              "      <td>4231</td>\n",
              "      <td>173461</td>\n",
              "      <td>2153146.0</td>\n",
              "      <td>41/183</td>\n",
              "      <td>Thrill Hill Productions</td>\n",
              "      <td>NaN</td>\n",
              "      <td>NaN</td>\n",
              "      <td>2.0</td>\n",
              "    </tr>\n",
              "    <tr>\n",
              "      <th>9</th>\n",
              "      <td>10</td>\n",
              "      <td>79.0</td>\n",
              "      <td>Drake</td>\n",
              "      <td>116.46</td>\n",
              "      <td>35706</td>\n",
              "      <td>678410</td>\n",
              "      <td>4158145.0</td>\n",
              "      <td>19/43</td>\n",
              "      <td>WME</td>\n",
              "      <td>1.0</td>\n",
              "      <td>NaN</td>\n",
              "      <td>18.0</td>\n",
              "    </tr>\n",
              "  </tbody>\n",
              "</table>\n",
              "</div>"
            ],
            "text/plain": [
              "   Rank  Gross Millions  ... Instagram Followers  Years Active\n",
              "0     1           277.3  ...         122000000.0          15.0\n",
              "1     2           166.4  ...         135000000.0          27.0\n",
              "2     3           166.0  ...                 NaN          34.0\n",
              "3     4           114.4  ...           1300000.0          31.0\n",
              "4     5           110.0  ...          56600000.0          27.0\n",
              "5     6           105.0  ...            346000.0          15.0\n",
              "6     7            97.8  ...            823000.0          40.5\n",
              "7     8            95.3  ...           7200000.0          24.0\n",
              "8     9            88.3  ...                 NaN           2.0\n",
              "9    10            79.0  ...                 NaN          18.0\n",
              "\n",
              "[10 rows x 12 columns]"
            ]
          },
          "metadata": {
            "tags": []
          },
          "execution_count": 206
        }
      ]
    },
    {
      "cell_type": "code",
      "metadata": {
        "id": "dP49vkzD2-VX",
        "colab_type": "code",
        "colab": {
          "base_uri": "https://localhost:8080/",
          "height": 228
        },
        "outputId": "e81883f3-f92a-4e96-c83a-a17a07cb4e7c"
      },
      "source": [
        "#here I am fixing an error in one artist's years active\n",
        "tours2['Years Active']"
      ],
      "execution_count": 207,
      "outputs": [
        {
          "output_type": "execute_result",
          "data": {
            "text/plain": [
              "0      15.0\n",
              "1      27.0\n",
              "2      34.0\n",
              "3      31.0\n",
              "4      27.0\n",
              "       ... \n",
              "195    21.0\n",
              "196    44.0\n",
              "197    30.0\n",
              "198    14.0\n",
              "199    19.0\n",
              "Name: Years Active, Length: 200, dtype: float64"
            ]
          },
          "metadata": {
            "tags": []
          },
          "execution_count": 207
        }
      ]
    },
    {
      "cell_type": "code",
      "metadata": {
        "id": "ykAxxwYLzb_d",
        "colab_type": "code",
        "colab": {
          "base_uri": "https://localhost:8080/",
          "height": 546
        },
        "outputId": "491bea67-09bc-4898-d15d-b6cca2e0480f"
      },
      "source": [
        "tours2['Years Active'] = tours2['Years Active'].replace(2, 55)\n",
        "tours2.head(10)"
      ],
      "execution_count": 208,
      "outputs": [
        {
          "output_type": "execute_result",
          "data": {
            "text/html": [
              "<div>\n",
              "<style scoped>\n",
              "    .dataframe tbody tr th:only-of-type {\n",
              "        vertical-align: middle;\n",
              "    }\n",
              "\n",
              "    .dataframe tbody tr th {\n",
              "        vertical-align: top;\n",
              "    }\n",
              "\n",
              "    .dataframe thead th {\n",
              "        text-align: right;\n",
              "    }\n",
              "</style>\n",
              "<table border=\"1\" class=\"dataframe\">\n",
              "  <thead>\n",
              "    <tr style=\"text-align: right;\">\n",
              "      <th></th>\n",
              "      <th>Rank</th>\n",
              "      <th>Cities</th>\n",
              "      <th>Shows</th>\n",
              "      <th>Gross Millions</th>\n",
              "      <th>Artist</th>\n",
              "      <th>Average Ticket Price</th>\n",
              "      <th>Average Tickets</th>\n",
              "      <th>Total Tickets</th>\n",
              "      <th>Average Gross</th>\n",
              "      <th>Cities/Shows</th>\n",
              "      <th>Agency</th>\n",
              "      <th>Number of Members</th>\n",
              "      <th>Instagram Followers</th>\n",
              "      <th>Years Active</th>\n",
              "    </tr>\n",
              "  </thead>\n",
              "  <tbody>\n",
              "    <tr>\n",
              "      <th>0</th>\n",
              "      <td>1</td>\n",
              "      <td>24</td>\n",
              "      <td>30</td>\n",
              "      <td>277.3</td>\n",
              "      <td>Taylor Swift</td>\n",
              "      <td>124.99</td>\n",
              "      <td>80322</td>\n",
              "      <td>2168706</td>\n",
              "      <td>10271531.0</td>\n",
              "      <td>27/40</td>\n",
              "      <td>Messina Touring Group</td>\n",
              "      <td>1.0</td>\n",
              "      <td>122000000.0</td>\n",
              "      <td>15.0</td>\n",
              "    </tr>\n",
              "    <tr>\n",
              "      <th>1</th>\n",
              "      <td>2</td>\n",
              "      <td>45</td>\n",
              "      <td>53</td>\n",
              "      <td>166.4</td>\n",
              "      <td>Jay-Z / Beyonce</td>\n",
              "      <td>128.23</td>\n",
              "      <td>54085</td>\n",
              "      <td>1298038</td>\n",
              "      <td>6935409.0</td>\n",
              "      <td>24/30</td>\n",
              "      <td>Live Nation</td>\n",
              "      <td>2.0</td>\n",
              "      <td>135000000.0</td>\n",
              "      <td>27.0</td>\n",
              "    </tr>\n",
              "    <tr>\n",
              "      <th>2</th>\n",
              "      <td>3</td>\n",
              "      <td>40</td>\n",
              "      <td>42</td>\n",
              "      <td>166.0</td>\n",
              "      <td>Eagles</td>\n",
              "      <td>172.13</td>\n",
              "      <td>21428</td>\n",
              "      <td>964245</td>\n",
              "      <td>3688308.0</td>\n",
              "      <td>45/53</td>\n",
              "      <td>Creative Artists Agency</td>\n",
              "      <td>3.0</td>\n",
              "      <td>NaN</td>\n",
              "      <td>34.0</td>\n",
              "    </tr>\n",
              "    <tr>\n",
              "      <th>3</th>\n",
              "      <td>4</td>\n",
              "      <td>40</td>\n",
              "      <td>50</td>\n",
              "      <td>114.4</td>\n",
              "      <td>Kenny Chesney</td>\n",
              "      <td>88.15</td>\n",
              "      <td>32443</td>\n",
              "      <td>1297731</td>\n",
              "      <td>2860007.0</td>\n",
              "      <td>40/42</td>\n",
              "      <td>Dale Morris &amp; Associates</td>\n",
              "      <td>1.0</td>\n",
              "      <td>1300000.0</td>\n",
              "      <td>31.0</td>\n",
              "    </tr>\n",
              "    <tr>\n",
              "      <th>4</th>\n",
              "      <td>5</td>\n",
              "      <td>21</td>\n",
              "      <td>24</td>\n",
              "      <td>110.0</td>\n",
              "      <td>Justin Timberlake</td>\n",
              "      <td>138.87</td>\n",
              "      <td>19795</td>\n",
              "      <td>791780</td>\n",
              "      <td>2748832.0</td>\n",
              "      <td>40/50</td>\n",
              "      <td>WME</td>\n",
              "      <td>1.0</td>\n",
              "      <td>56600000.0</td>\n",
              "      <td>27.0</td>\n",
              "    </tr>\n",
              "    <tr>\n",
              "      <th>5</th>\n",
              "      <td>6</td>\n",
              "      <td>58</td>\n",
              "      <td>60</td>\n",
              "      <td>105.0</td>\n",
              "      <td>Ed Sheeran</td>\n",
              "      <td>92.42</td>\n",
              "      <td>54119</td>\n",
              "      <td>1136497</td>\n",
              "      <td>5001537.0</td>\n",
              "      <td>21/24</td>\n",
              "      <td>Paradigm Talent Agency</td>\n",
              "      <td>1.0</td>\n",
              "      <td>346000.0</td>\n",
              "      <td>15.0</td>\n",
              "    </tr>\n",
              "    <tr>\n",
              "      <th>6</th>\n",
              "      <td>7</td>\n",
              "      <td>38</td>\n",
              "      <td>46</td>\n",
              "      <td>97.8</td>\n",
              "      <td>Journey / Def Leppard</td>\n",
              "      <td>97.79</td>\n",
              "      <td>17246</td>\n",
              "      <td>1000272</td>\n",
              "      <td>1686460.0</td>\n",
              "      <td>58/60</td>\n",
              "      <td>CAA / Artist Group International</td>\n",
              "      <td>10.0</td>\n",
              "      <td>823000.0</td>\n",
              "      <td>40.5</td>\n",
              "    </tr>\n",
              "    <tr>\n",
              "      <th>7</th>\n",
              "      <td>8</td>\n",
              "      <td>41</td>\n",
              "      <td>183</td>\n",
              "      <td>95.3</td>\n",
              "      <td>Pink</td>\n",
              "      <td>138.46</td>\n",
              "      <td>18120</td>\n",
              "      <td>688558</td>\n",
              "      <td>2508798.0</td>\n",
              "      <td>38/46</td>\n",
              "      <td>Marshall Arts</td>\n",
              "      <td>1.0</td>\n",
              "      <td>7200000.0</td>\n",
              "      <td>24.0</td>\n",
              "    </tr>\n",
              "    <tr>\n",
              "      <th>8</th>\n",
              "      <td>9</td>\n",
              "      <td>19</td>\n",
              "      <td>43</td>\n",
              "      <td>88.3</td>\n",
              "      <td>Springsteen On Broadway</td>\n",
              "      <td>508.93</td>\n",
              "      <td>4231</td>\n",
              "      <td>173461</td>\n",
              "      <td>2153146.0</td>\n",
              "      <td>41/183</td>\n",
              "      <td>Thrill Hill Productions</td>\n",
              "      <td>NaN</td>\n",
              "      <td>NaN</td>\n",
              "      <td>55.0</td>\n",
              "    </tr>\n",
              "    <tr>\n",
              "      <th>9</th>\n",
              "      <td>10</td>\n",
              "      <td>50</td>\n",
              "      <td>51</td>\n",
              "      <td>79.0</td>\n",
              "      <td>Drake</td>\n",
              "      <td>116.46</td>\n",
              "      <td>35706</td>\n",
              "      <td>678410</td>\n",
              "      <td>4158145.0</td>\n",
              "      <td>19/43</td>\n",
              "      <td>WME</td>\n",
              "      <td>1.0</td>\n",
              "      <td>NaN</td>\n",
              "      <td>18.0</td>\n",
              "    </tr>\n",
              "  </tbody>\n",
              "</table>\n",
              "</div>"
            ],
            "text/plain": [
              "   Rank Cities Shows  ...  Number of Members Instagram Followers  Years Active\n",
              "0     1     24    30  ...                1.0         122000000.0          15.0\n",
              "1     2     45    53  ...                2.0         135000000.0          27.0\n",
              "2     3     40    42  ...                3.0                 NaN          34.0\n",
              "3     4     40    50  ...                1.0           1300000.0          31.0\n",
              "4     5     21    24  ...                1.0          56600000.0          27.0\n",
              "5     6     58    60  ...                1.0            346000.0          15.0\n",
              "6     7     38    46  ...               10.0            823000.0          40.5\n",
              "7     8     41   183  ...                1.0           7200000.0          24.0\n",
              "8     9     19    43  ...                NaN                 NaN          55.0\n",
              "9    10     50    51  ...                1.0                 NaN          18.0\n",
              "\n",
              "[10 rows x 14 columns]"
            ]
          },
          "metadata": {
            "tags": []
          },
          "execution_count": 208
        }
      ]
    },
    {
      "cell_type": "markdown",
      "metadata": {
        "id": "w_L3PmRhypz3",
        "colab_type": "text"
      },
      "source": [
        "####seperate the cities/shows into two seperate columns "
      ]
    },
    {
      "cell_type": "code",
      "metadata": {
        "id": "54i5VrEuyva0",
        "colab_type": "code",
        "colab": {
          "base_uri": "https://localhost:8080/",
          "height": 233
        },
        "outputId": "131b2cef-9d84-4bd6-c7b7-ed8e551e8ef9"
      },
      "source": [
        "s1 = pd.DataFrame(tours['Cities/Shows'].str.split('/', expand=True), tours['Rank'])\n",
        "s1.head()"
      ],
      "execution_count": 209,
      "outputs": [
        {
          "output_type": "execute_result",
          "data": {
            "text/html": [
              "<div>\n",
              "<style scoped>\n",
              "    .dataframe tbody tr th:only-of-type {\n",
              "        vertical-align: middle;\n",
              "    }\n",
              "\n",
              "    .dataframe tbody tr th {\n",
              "        vertical-align: top;\n",
              "    }\n",
              "\n",
              "    .dataframe thead th {\n",
              "        text-align: right;\n",
              "    }\n",
              "</style>\n",
              "<table border=\"1\" class=\"dataframe\">\n",
              "  <thead>\n",
              "    <tr style=\"text-align: right;\">\n",
              "      <th></th>\n",
              "      <th>0</th>\n",
              "      <th>1</th>\n",
              "    </tr>\n",
              "    <tr>\n",
              "      <th>Rank</th>\n",
              "      <th></th>\n",
              "      <th></th>\n",
              "    </tr>\n",
              "  </thead>\n",
              "  <tbody>\n",
              "    <tr>\n",
              "      <th>1</th>\n",
              "      <td>24</td>\n",
              "      <td>30</td>\n",
              "    </tr>\n",
              "    <tr>\n",
              "      <th>2</th>\n",
              "      <td>45</td>\n",
              "      <td>53</td>\n",
              "    </tr>\n",
              "    <tr>\n",
              "      <th>3</th>\n",
              "      <td>40</td>\n",
              "      <td>42</td>\n",
              "    </tr>\n",
              "    <tr>\n",
              "      <th>4</th>\n",
              "      <td>40</td>\n",
              "      <td>50</td>\n",
              "    </tr>\n",
              "    <tr>\n",
              "      <th>5</th>\n",
              "      <td>21</td>\n",
              "      <td>24</td>\n",
              "    </tr>\n",
              "  </tbody>\n",
              "</table>\n",
              "</div>"
            ],
            "text/plain": [
              "       0   1\n",
              "Rank        \n",
              "1     24  30\n",
              "2     45  53\n",
              "3     40  42\n",
              "4     40  50\n",
              "5     21  24"
            ]
          },
          "metadata": {
            "tags": []
          },
          "execution_count": 209
        }
      ]
    },
    {
      "cell_type": "code",
      "metadata": {
        "id": "ghJHWN7j7exs",
        "colab_type": "code",
        "colab": {
          "base_uri": "https://localhost:8080/",
          "height": 233
        },
        "outputId": "762e8d7d-dfae-410b-cc79-2812d76e9fb2"
      },
      "source": [
        "s1.columns = ['Cities', 'Shows']\n",
        "s1.head()"
      ],
      "execution_count": 210,
      "outputs": [
        {
          "output_type": "execute_result",
          "data": {
            "text/html": [
              "<div>\n",
              "<style scoped>\n",
              "    .dataframe tbody tr th:only-of-type {\n",
              "        vertical-align: middle;\n",
              "    }\n",
              "\n",
              "    .dataframe tbody tr th {\n",
              "        vertical-align: top;\n",
              "    }\n",
              "\n",
              "    .dataframe thead th {\n",
              "        text-align: right;\n",
              "    }\n",
              "</style>\n",
              "<table border=\"1\" class=\"dataframe\">\n",
              "  <thead>\n",
              "    <tr style=\"text-align: right;\">\n",
              "      <th></th>\n",
              "      <th>Cities</th>\n",
              "      <th>Shows</th>\n",
              "    </tr>\n",
              "    <tr>\n",
              "      <th>Rank</th>\n",
              "      <th></th>\n",
              "      <th></th>\n",
              "    </tr>\n",
              "  </thead>\n",
              "  <tbody>\n",
              "    <tr>\n",
              "      <th>1</th>\n",
              "      <td>24</td>\n",
              "      <td>30</td>\n",
              "    </tr>\n",
              "    <tr>\n",
              "      <th>2</th>\n",
              "      <td>45</td>\n",
              "      <td>53</td>\n",
              "    </tr>\n",
              "    <tr>\n",
              "      <th>3</th>\n",
              "      <td>40</td>\n",
              "      <td>42</td>\n",
              "    </tr>\n",
              "    <tr>\n",
              "      <th>4</th>\n",
              "      <td>40</td>\n",
              "      <td>50</td>\n",
              "    </tr>\n",
              "    <tr>\n",
              "      <th>5</th>\n",
              "      <td>21</td>\n",
              "      <td>24</td>\n",
              "    </tr>\n",
              "  </tbody>\n",
              "</table>\n",
              "</div>"
            ],
            "text/plain": [
              "     Cities Shows\n",
              "Rank             \n",
              "1        24    30\n",
              "2        45    53\n",
              "3        40    42\n",
              "4        40    50\n",
              "5        21    24"
            ]
          },
          "metadata": {
            "tags": []
          },
          "execution_count": 210
        }
      ]
    },
    {
      "cell_type": "code",
      "metadata": {
        "id": "fx3aQejb7uvQ",
        "colab_type": "code",
        "colab": {
          "base_uri": "https://localhost:8080/",
          "height": 262
        },
        "outputId": "736640f7-54d4-4538-8198-8ec975d3eba9"
      },
      "source": [
        "tours2 = pd.merge(s1, tours, how= 'outer', on='Rank')\n",
        "print(tours2.shape)\n",
        "\n",
        "tours2.head(3)"
      ],
      "execution_count": 247,
      "outputs": [
        {
          "output_type": "stream",
          "text": [
            "(200, 14)\n"
          ],
          "name": "stdout"
        },
        {
          "output_type": "execute_result",
          "data": {
            "text/html": [
              "<div>\n",
              "<style scoped>\n",
              "    .dataframe tbody tr th:only-of-type {\n",
              "        vertical-align: middle;\n",
              "    }\n",
              "\n",
              "    .dataframe tbody tr th {\n",
              "        vertical-align: top;\n",
              "    }\n",
              "\n",
              "    .dataframe thead th {\n",
              "        text-align: right;\n",
              "    }\n",
              "</style>\n",
              "<table border=\"1\" class=\"dataframe\">\n",
              "  <thead>\n",
              "    <tr style=\"text-align: right;\">\n",
              "      <th></th>\n",
              "      <th>Rank</th>\n",
              "      <th>Cities</th>\n",
              "      <th>Shows</th>\n",
              "      <th>Gross Millions</th>\n",
              "      <th>Artist</th>\n",
              "      <th>Average Ticket Price</th>\n",
              "      <th>Average Tickets</th>\n",
              "      <th>Total Tickets</th>\n",
              "      <th>Average Gross</th>\n",
              "      <th>Cities/Shows</th>\n",
              "      <th>Agency</th>\n",
              "      <th>Number of Members</th>\n",
              "      <th>Instagram Followers</th>\n",
              "      <th>Years Active</th>\n",
              "    </tr>\n",
              "  </thead>\n",
              "  <tbody>\n",
              "    <tr>\n",
              "      <th>0</th>\n",
              "      <td>1</td>\n",
              "      <td>24</td>\n",
              "      <td>30</td>\n",
              "      <td>277.3</td>\n",
              "      <td>Taylor Swift</td>\n",
              "      <td>124.99</td>\n",
              "      <td>80322</td>\n",
              "      <td>2168706</td>\n",
              "      <td>10271531.0</td>\n",
              "      <td>27/40</td>\n",
              "      <td>Messina Touring Group</td>\n",
              "      <td>1.0</td>\n",
              "      <td>122000000.0</td>\n",
              "      <td>15.0</td>\n",
              "    </tr>\n",
              "    <tr>\n",
              "      <th>1</th>\n",
              "      <td>2</td>\n",
              "      <td>45</td>\n",
              "      <td>53</td>\n",
              "      <td>166.4</td>\n",
              "      <td>Jay-Z / Beyonce</td>\n",
              "      <td>128.23</td>\n",
              "      <td>54085</td>\n",
              "      <td>1298038</td>\n",
              "      <td>6935409.0</td>\n",
              "      <td>24/30</td>\n",
              "      <td>Live Nation</td>\n",
              "      <td>2.0</td>\n",
              "      <td>135000000.0</td>\n",
              "      <td>27.0</td>\n",
              "    </tr>\n",
              "    <tr>\n",
              "      <th>2</th>\n",
              "      <td>3</td>\n",
              "      <td>40</td>\n",
              "      <td>42</td>\n",
              "      <td>166.0</td>\n",
              "      <td>Eagles</td>\n",
              "      <td>172.13</td>\n",
              "      <td>21428</td>\n",
              "      <td>964245</td>\n",
              "      <td>3688308.0</td>\n",
              "      <td>45/53</td>\n",
              "      <td>Creative Artists Agency</td>\n",
              "      <td>3.0</td>\n",
              "      <td>NaN</td>\n",
              "      <td>34.0</td>\n",
              "    </tr>\n",
              "  </tbody>\n",
              "</table>\n",
              "</div>"
            ],
            "text/plain": [
              "   Rank Cities Shows  ...  Number of Members Instagram Followers  Years Active\n",
              "0     1     24    30  ...                1.0         122000000.0          15.0\n",
              "1     2     45    53  ...                2.0         135000000.0          27.0\n",
              "2     3     40    42  ...                3.0                 NaN          34.0\n",
              "\n",
              "[3 rows x 14 columns]"
            ]
          },
          "metadata": {
            "tags": []
          },
          "execution_count": 247
        }
      ]
    },
    {
      "cell_type": "markdown",
      "metadata": {
        "id": "Rk6RTDH1vtGJ",
        "colab_type": "text"
      },
      "source": [
        "#Workspace for split dataframes\n",
        "\n",
        "\n"
      ]
    },
    {
      "cell_type": "markdown",
      "metadata": {
        "id": "Dbyf3HaliiqJ",
        "colab_type": "text"
      },
      "source": [
        "##Comparing the top 50 oldest musicians to the top 50 musicians on the list with the most Instagram followers"
      ]
    },
    {
      "cell_type": "code",
      "metadata": {
        "id": "sCQ4NoaBxkdS",
        "colab_type": "code",
        "colab": {
          "base_uri": "https://localhost:8080/",
          "height": 244
        },
        "outputId": "4f8208f4-375f-46ff-d669-517ff6f44e82"
      },
      "source": [
        "older_musicians = tours2.sort_values('Years Active', ascending=False)\n",
        "older_musicians.head(3)"
      ],
      "execution_count": 212,
      "outputs": [
        {
          "output_type": "execute_result",
          "data": {
            "text/html": [
              "<div>\n",
              "<style scoped>\n",
              "    .dataframe tbody tr th:only-of-type {\n",
              "        vertical-align: middle;\n",
              "    }\n",
              "\n",
              "    .dataframe tbody tr th {\n",
              "        vertical-align: top;\n",
              "    }\n",
              "\n",
              "    .dataframe thead th {\n",
              "        text-align: right;\n",
              "    }\n",
              "</style>\n",
              "<table border=\"1\" class=\"dataframe\">\n",
              "  <thead>\n",
              "    <tr style=\"text-align: right;\">\n",
              "      <th></th>\n",
              "      <th>Rank</th>\n",
              "      <th>Cities</th>\n",
              "      <th>Shows</th>\n",
              "      <th>Gross Millions</th>\n",
              "      <th>Artist</th>\n",
              "      <th>Average Ticket Price</th>\n",
              "      <th>Average Tickets</th>\n",
              "      <th>Total Tickets</th>\n",
              "      <th>Average Gross</th>\n",
              "      <th>Cities/Shows</th>\n",
              "      <th>Agency</th>\n",
              "      <th>Number of Members</th>\n",
              "      <th>Instagram Followers</th>\n",
              "      <th>Years Active</th>\n",
              "    </tr>\n",
              "  </thead>\n",
              "  <tbody>\n",
              "    <tr>\n",
              "      <th>43</th>\n",
              "      <td>44</td>\n",
              "      <td>34</td>\n",
              "      <td>34</td>\n",
              "      <td>25.8</td>\n",
              "      <td>Rod Stewart</td>\n",
              "      <td>83.58</td>\n",
              "      <td>11417</td>\n",
              "      <td>308266</td>\n",
              "      <td>954282.0</td>\n",
              "      <td>27/28</td>\n",
              "      <td>Artist Group International</td>\n",
              "      <td>1.0</td>\n",
              "      <td>347000.0</td>\n",
              "      <td>68.0</td>\n",
              "    </tr>\n",
              "    <tr>\n",
              "      <th>40</th>\n",
              "      <td>41</td>\n",
              "      <td>39</td>\n",
              "      <td>39</td>\n",
              "      <td>27.5</td>\n",
              "      <td>Paul Simon</td>\n",
              "      <td>98.07</td>\n",
              "      <td>13329</td>\n",
              "      <td>279919</td>\n",
              "      <td>1307250.0</td>\n",
              "      <td>21/24</td>\n",
              "      <td>Creative Artists Agency</td>\n",
              "      <td>1.0</td>\n",
              "      <td>36300.0</td>\n",
              "      <td>63.0</td>\n",
              "    </tr>\n",
              "    <tr>\n",
              "      <th>78</th>\n",
              "      <td>79</td>\n",
              "      <td>14</td>\n",
              "      <td>95</td>\n",
              "      <td>16.1</td>\n",
              "      <td>Willie Nelson</td>\n",
              "      <td>66.81</td>\n",
              "      <td>5123</td>\n",
              "      <td>240767</td>\n",
              "      <td>342229.0</td>\n",
              "      <td>47/50</td>\n",
              "      <td>Creative Artists Agency</td>\n",
              "      <td>1.0</td>\n",
              "      <td>546000.0</td>\n",
              "      <td>63.0</td>\n",
              "    </tr>\n",
              "  </tbody>\n",
              "</table>\n",
              "</div>"
            ],
            "text/plain": [
              "    Rank Cities Shows  ...  Number of Members Instagram Followers  Years Active\n",
              "43    44     34    34  ...                1.0            347000.0          68.0\n",
              "40    41     39    39  ...                1.0             36300.0          63.0\n",
              "78    79     14    95  ...                1.0            546000.0          63.0\n",
              "\n",
              "[3 rows x 14 columns]"
            ]
          },
          "metadata": {
            "tags": []
          },
          "execution_count": 212
        }
      ]
    },
    {
      "cell_type": "code",
      "metadata": {
        "id": "j0p0FoIT4V4m",
        "colab_type": "code",
        "colab": {
          "base_uri": "https://localhost:8080/",
          "height": 35
        },
        "outputId": "eab9912d-f325-49a5-c789-058c98e8e7e1"
      },
      "source": [
        "older_musicians = older_musicians.iloc[0:50]\n",
        "older_musicians.shape"
      ],
      "execution_count": 213,
      "outputs": [
        {
          "output_type": "execute_result",
          "data": {
            "text/plain": [
              "(50, 14)"
            ]
          },
          "metadata": {
            "tags": []
          },
          "execution_count": 213
        }
      ]
    },
    {
      "cell_type": "code",
      "metadata": {
        "id": "85dMYvnX3NC4",
        "colab_type": "code",
        "colab": {
          "base_uri": "https://localhost:8080/",
          "height": 244
        },
        "outputId": "1bcf8981-87b9-4d71-c17c-d4d9f1bf6419"
      },
      "source": [
        "ig_famous= tours2.sort_values('Instagram Followers', ascending=False)\n",
        "ig_famous.head(3)"
      ],
      "execution_count": 214,
      "outputs": [
        {
          "output_type": "execute_result",
          "data": {
            "text/html": [
              "<div>\n",
              "<style scoped>\n",
              "    .dataframe tbody tr th:only-of-type {\n",
              "        vertical-align: middle;\n",
              "    }\n",
              "\n",
              "    .dataframe tbody tr th {\n",
              "        vertical-align: top;\n",
              "    }\n",
              "\n",
              "    .dataframe thead th {\n",
              "        text-align: right;\n",
              "    }\n",
              "</style>\n",
              "<table border=\"1\" class=\"dataframe\">\n",
              "  <thead>\n",
              "    <tr style=\"text-align: right;\">\n",
              "      <th></th>\n",
              "      <th>Rank</th>\n",
              "      <th>Cities</th>\n",
              "      <th>Shows</th>\n",
              "      <th>Gross Millions</th>\n",
              "      <th>Artist</th>\n",
              "      <th>Average Ticket Price</th>\n",
              "      <th>Average Tickets</th>\n",
              "      <th>Total Tickets</th>\n",
              "      <th>Average Gross</th>\n",
              "      <th>Cities/Shows</th>\n",
              "      <th>Agency</th>\n",
              "      <th>Number of Members</th>\n",
              "      <th>Instagram Followers</th>\n",
              "      <th>Years Active</th>\n",
              "    </tr>\n",
              "  </thead>\n",
              "  <tbody>\n",
              "    <tr>\n",
              "      <th>1</th>\n",
              "      <td>2</td>\n",
              "      <td>45</td>\n",
              "      <td>53</td>\n",
              "      <td>166.4</td>\n",
              "      <td>Jay-Z / Beyonce</td>\n",
              "      <td>128.23</td>\n",
              "      <td>54085</td>\n",
              "      <td>1298038</td>\n",
              "      <td>6935409.0</td>\n",
              "      <td>24/30</td>\n",
              "      <td>Live Nation</td>\n",
              "      <td>2.0</td>\n",
              "      <td>135000000.0</td>\n",
              "      <td>27.0</td>\n",
              "    </tr>\n",
              "    <tr>\n",
              "      <th>0</th>\n",
              "      <td>1</td>\n",
              "      <td>24</td>\n",
              "      <td>30</td>\n",
              "      <td>277.3</td>\n",
              "      <td>Taylor Swift</td>\n",
              "      <td>124.99</td>\n",
              "      <td>80322</td>\n",
              "      <td>2168706</td>\n",
              "      <td>10271531.0</td>\n",
              "      <td>27/40</td>\n",
              "      <td>Messina Touring Group</td>\n",
              "      <td>1.0</td>\n",
              "      <td>122000000.0</td>\n",
              "      <td>15.0</td>\n",
              "    </tr>\n",
              "    <tr>\n",
              "      <th>32</th>\n",
              "      <td>33</td>\n",
              "      <td>13</td>\n",
              "      <td>14</td>\n",
              "      <td>33.7</td>\n",
              "      <td>Jennifer Lopez</td>\n",
              "      <td>195.79</td>\n",
              "      <td>3830</td>\n",
              "      <td>172332</td>\n",
              "      <td>749787.0</td>\n",
              "      <td>1/45</td>\n",
              "      <td>Creative Artists Agency</td>\n",
              "      <td>1.0</td>\n",
              "      <td>105000000.0</td>\n",
              "      <td>33.0</td>\n",
              "    </tr>\n",
              "  </tbody>\n",
              "</table>\n",
              "</div>"
            ],
            "text/plain": [
              "    Rank Cities Shows  ...  Number of Members Instagram Followers  Years Active\n",
              "1      2     45    53  ...                2.0         135000000.0          27.0\n",
              "0      1     24    30  ...                1.0         122000000.0          15.0\n",
              "32    33     13    14  ...                1.0         105000000.0          33.0\n",
              "\n",
              "[3 rows x 14 columns]"
            ]
          },
          "metadata": {
            "tags": []
          },
          "execution_count": 214
        }
      ]
    },
    {
      "cell_type": "code",
      "metadata": {
        "id": "PT0aNWh34nfx",
        "colab_type": "code",
        "colab": {
          "base_uri": "https://localhost:8080/",
          "height": 35
        },
        "outputId": "7e6ea51d-85c1-4765-e81b-8b35501d9df2"
      },
      "source": [
        "ig_famous = ig_famous.iloc[0:50]\n",
        "ig_famous.shape"
      ],
      "execution_count": 215,
      "outputs": [
        {
          "output_type": "execute_result",
          "data": {
            "text/plain": [
              "(50, 14)"
            ]
          },
          "metadata": {
            "tags": []
          },
          "execution_count": 215
        }
      ]
    },
    {
      "cell_type": "code",
      "metadata": {
        "id": "BuZxFV8MJ7SE",
        "colab_type": "code",
        "colab": {
          "base_uri": "https://localhost:8080/",
          "height": 306
        },
        "outputId": "496a7d5b-ed9a-4dab-f585-715fda41e695"
      },
      "source": [
        "ig_kinda_famous = tours2.sort_values('Instagram Followers', ascending=True)\n",
        "ig_kinda_famous.head()"
      ],
      "execution_count": 216,
      "outputs": [
        {
          "output_type": "execute_result",
          "data": {
            "text/html": [
              "<div>\n",
              "<style scoped>\n",
              "    .dataframe tbody tr th:only-of-type {\n",
              "        vertical-align: middle;\n",
              "    }\n",
              "\n",
              "    .dataframe tbody tr th {\n",
              "        vertical-align: top;\n",
              "    }\n",
              "\n",
              "    .dataframe thead th {\n",
              "        text-align: right;\n",
              "    }\n",
              "</style>\n",
              "<table border=\"1\" class=\"dataframe\">\n",
              "  <thead>\n",
              "    <tr style=\"text-align: right;\">\n",
              "      <th></th>\n",
              "      <th>Rank</th>\n",
              "      <th>Cities</th>\n",
              "      <th>Shows</th>\n",
              "      <th>Gross Millions</th>\n",
              "      <th>Artist</th>\n",
              "      <th>Average Ticket Price</th>\n",
              "      <th>Average Tickets</th>\n",
              "      <th>Total Tickets</th>\n",
              "      <th>Average Gross</th>\n",
              "      <th>Cities/Shows</th>\n",
              "      <th>Agency</th>\n",
              "      <th>Number of Members</th>\n",
              "      <th>Instagram Followers</th>\n",
              "      <th>Years Active</th>\n",
              "    </tr>\n",
              "  </thead>\n",
              "  <tbody>\n",
              "    <tr>\n",
              "      <th>191</th>\n",
              "      <td>192</td>\n",
              "      <td>NaN</td>\n",
              "      <td>NaN</td>\n",
              "      <td>5.2</td>\n",
              "      <td>Frankie Valli And The Four Seasons</td>\n",
              "      <td>74.68</td>\n",
              "      <td>3172</td>\n",
              "      <td>236879</td>\n",
              "      <td>NaN</td>\n",
              "      <td>NaN</td>\n",
              "      <td>NaN</td>\n",
              "      <td>11.0</td>\n",
              "      <td>2300.0</td>\n",
              "      <td>59.0</td>\n",
              "    </tr>\n",
              "    <tr>\n",
              "      <th>133</th>\n",
              "      <td>134</td>\n",
              "      <td>NaN</td>\n",
              "      <td>NaN</td>\n",
              "      <td>8.6</td>\n",
              "      <td>Mannheim Steamroller</td>\n",
              "      <td>59.42</td>\n",
              "      <td>2425</td>\n",
              "      <td>144071</td>\n",
              "      <td>NaN</td>\n",
              "      <td>NaN</td>\n",
              "      <td>NaN</td>\n",
              "      <td>20.0</td>\n",
              "      <td>3000.0</td>\n",
              "      <td>45.0</td>\n",
              "    </tr>\n",
              "    <tr>\n",
              "      <th>177</th>\n",
              "      <td>178</td>\n",
              "      <td>NaN</td>\n",
              "      <td>NaN</td>\n",
              "      <td>5.9</td>\n",
              "      <td>Rain - A Tribute To The Beatles</td>\n",
              "      <td>54.38</td>\n",
              "      <td>2017</td>\n",
              "      <td>109695</td>\n",
              "      <td>NaN</td>\n",
              "      <td>NaN</td>\n",
              "      <td>NaN</td>\n",
              "      <td>14.0</td>\n",
              "      <td>4500.0</td>\n",
              "      <td>44.0</td>\n",
              "    </tr>\n",
              "    <tr>\n",
              "      <th>65</th>\n",
              "      <td>66</td>\n",
              "      <td>38</td>\n",
              "      <td>38</td>\n",
              "      <td>18.9</td>\n",
              "      <td>The Illusionists</td>\n",
              "      <td>59.80</td>\n",
              "      <td>4216</td>\n",
              "      <td>316209</td>\n",
              "      <td>252121.0</td>\n",
              "      <td>75/189</td>\n",
              "      <td>WME</td>\n",
              "      <td>7.0</td>\n",
              "      <td>28300.0</td>\n",
              "      <td>7.0</td>\n",
              "    </tr>\n",
              "    <tr>\n",
              "      <th>184</th>\n",
              "      <td>185</td>\n",
              "      <td>NaN</td>\n",
              "      <td>NaN</td>\n",
              "      <td>5.7</td>\n",
              "      <td>Los Enanitos Verdes / Hombres G</td>\n",
              "      <td>45.35</td>\n",
              "      <td>8319</td>\n",
              "      <td>377308</td>\n",
              "      <td>NaN</td>\n",
              "      <td>NaN</td>\n",
              "      <td>NaN</td>\n",
              "      <td>8.0</td>\n",
              "      <td>29600.0</td>\n",
              "      <td>32.0</td>\n",
              "    </tr>\n",
              "  </tbody>\n",
              "</table>\n",
              "</div>"
            ],
            "text/plain": [
              "     Rank Cities Shows  ...  Number of Members Instagram Followers  Years Active\n",
              "191   192    NaN   NaN  ...               11.0              2300.0          59.0\n",
              "133   134    NaN   NaN  ...               20.0              3000.0          45.0\n",
              "177   178    NaN   NaN  ...               14.0              4500.0          44.0\n",
              "65     66     38    38  ...                7.0             28300.0           7.0\n",
              "184   185    NaN   NaN  ...                8.0             29600.0          32.0\n",
              "\n",
              "[5 rows x 14 columns]"
            ]
          },
          "metadata": {
            "tags": []
          },
          "execution_count": 216
        }
      ]
    },
    {
      "cell_type": "code",
      "metadata": {
        "id": "ZB2KWidjLjoO",
        "colab_type": "code",
        "colab": {
          "base_uri": "https://localhost:8080/",
          "height": 35
        },
        "outputId": "4d61fb77-50bb-4e96-9add-d98d1b82faf7"
      },
      "source": [
        "ig_kinda_famous = ig_kinda_famous.iloc[0:50]\n",
        "ig_kinda_famous.shape"
      ],
      "execution_count": 217,
      "outputs": [
        {
          "output_type": "execute_result",
          "data": {
            "text/plain": [
              "(50, 14)"
            ]
          },
          "metadata": {
            "tags": []
          },
          "execution_count": 217
        }
      ]
    },
    {
      "cell_type": "markdown",
      "metadata": {
        "id": "YSbE94s301Mb",
        "colab_type": "text"
      },
      "source": [
        "####Compare directly"
      ]
    },
    {
      "cell_type": "code",
      "metadata": {
        "id": "mfjwIDp1sexA",
        "colab_type": "code",
        "colab": {
          "base_uri": "https://localhost:8080/",
          "height": 35
        },
        "outputId": "50e2ae7d-6af7-46a1-ec22-4417fa053757"
      },
      "source": [
        "ig_famous['Years Active'].mean()"
      ],
      "execution_count": 218,
      "outputs": [
        {
          "output_type": "execute_result",
          "data": {
            "text/plain": [
              "18.979591836734695"
            ]
          },
          "metadata": {
            "tags": []
          },
          "execution_count": 218
        }
      ]
    },
    {
      "cell_type": "code",
      "metadata": {
        "id": "g3uCuOvR05PT",
        "colab_type": "code",
        "colab": {
          "base_uri": "https://localhost:8080/",
          "height": 35
        },
        "outputId": "32e2ccbe-f401-4943-a875-d17a3a384144"
      },
      "source": [
        "ig_famous['Instagram Followers'].mean()"
      ],
      "execution_count": 219,
      "outputs": [
        {
          "output_type": "execute_result",
          "data": {
            "text/plain": [
              "33572000.0"
            ]
          },
          "metadata": {
            "tags": []
          },
          "execution_count": 219
        }
      ]
    },
    {
      "cell_type": "code",
      "metadata": {
        "id": "rSfpNxaJ0_Mo",
        "colab_type": "code",
        "colab": {
          "base_uri": "https://localhost:8080/",
          "height": 35
        },
        "outputId": "55dd29c1-fdcd-4919-f395-5c38006cef3f"
      },
      "source": [
        "older_musicians['Years Active'].mean()\n",
        "\n",
        "#on average about 30 years more experience"
      ],
      "execution_count": 220,
      "outputs": [
        {
          "output_type": "execute_result",
          "data": {
            "text/plain": [
              "49.95"
            ]
          },
          "metadata": {
            "tags": []
          },
          "execution_count": 220
        }
      ]
    },
    {
      "cell_type": "code",
      "metadata": {
        "id": "NK7HkYgq1C_4",
        "colab_type": "code",
        "colab": {
          "base_uri": "https://localhost:8080/",
          "height": 35
        },
        "outputId": "63b336e4-1838-4294-f26a-7f5cd3aa7f99"
      },
      "source": [
        "older_musicians['Instagram Followers'].mean()\n",
        "#on average 31 million less followers"
      ],
      "execution_count": 221,
      "outputs": [
        {
          "output_type": "execute_result",
          "data": {
            "text/plain": [
              "1696794.5652173914"
            ]
          },
          "metadata": {
            "tags": []
          },
          "execution_count": 221
        }
      ]
    },
    {
      "cell_type": "markdown",
      "metadata": {
        "id": "BcxnKWr130ZD",
        "colab_type": "text"
      },
      "source": [
        "####Rank"
      ]
    },
    {
      "cell_type": "code",
      "metadata": {
        "id": "t-v7Dibd3VMU",
        "colab_type": "code",
        "colab": {
          "base_uri": "https://localhost:8080/",
          "height": 35
        },
        "outputId": "ac376ef3-923f-4c84-b7dd-bacf164af315"
      },
      "source": [
        "older_musicians['Rank'].mean()"
      ],
      "execution_count": 222,
      "outputs": [
        {
          "output_type": "execute_result",
          "data": {
            "text/plain": [
              "103.68"
            ]
          },
          "metadata": {
            "tags": []
          },
          "execution_count": 222
        }
      ]
    },
    {
      "cell_type": "code",
      "metadata": {
        "id": "qHCsMmub3irZ",
        "colab_type": "code",
        "colab": {
          "base_uri": "https://localhost:8080/",
          "height": 35
        },
        "outputId": "892331ad-7fc2-4c52-e918-3b958f3d3ded"
      },
      "source": [
        "ig_famous['Rank'].mean()\n",
        "\n",
        "#people who are instagram famous tend to be higher up on the ranking list"
      ],
      "execution_count": 223,
      "outputs": [
        {
          "output_type": "execute_result",
          "data": {
            "text/plain": [
              "82.32"
            ]
          },
          "metadata": {
            "tags": []
          },
          "execution_count": 223
        }
      ]
    },
    {
      "cell_type": "markdown",
      "metadata": {
        "id": "5U8M7JF233Y4",
        "colab_type": "text"
      },
      "source": [
        "####Millions grossed"
      ]
    },
    {
      "cell_type": "code",
      "metadata": {
        "id": "P0c5yh0Y36ef",
        "colab_type": "code",
        "colab": {
          "base_uri": "https://localhost:8080/",
          "height": 35
        },
        "outputId": "e4da7326-a882-4e36-e91a-a34884047792"
      },
      "source": [
        "older_musicians['Gross Millions'].mean()"
      ],
      "execution_count": 224,
      "outputs": [
        {
          "output_type": "execute_result",
          "data": {
            "text/plain": [
              "18.247999999999998"
            ]
          },
          "metadata": {
            "tags": []
          },
          "execution_count": 224
        }
      ]
    },
    {
      "cell_type": "code",
      "metadata": {
        "id": "YvPAGnxa4Akn",
        "colab_type": "code",
        "colab": {
          "base_uri": "https://localhost:8080/",
          "height": 35
        },
        "outputId": "5e322236-6209-4224-cce3-1b54a0986680"
      },
      "source": [
        "ig_famous['Gross Millions'].mean()\n",
        "\n",
        "#people who are instagram famous tend to make more money(unsurprising, they are ranked by this metric)"
      ],
      "execution_count": 225,
      "outputs": [
        {
          "output_type": "execute_result",
          "data": {
            "text/plain": [
              "30.314"
            ]
          },
          "metadata": {
            "tags": []
          },
          "execution_count": 225
        }
      ]
    },
    {
      "cell_type": "code",
      "metadata": {
        "id": "EFc3cBtGSln4",
        "colab_type": "code",
        "colab": {
          "base_uri": "https://localhost:8080/",
          "height": 35
        },
        "outputId": "cc0dfa6c-9fb8-45a4-d557-9ccfed59b118"
      },
      "source": [
        "ig_famous_test = ig_famous.iloc[2:50]\n",
        "ig_famous_test['Gross Millions'].mean()\n",
        "\n",
        "#after making my graphs I saw that two outliers were really skewing my mean, so I left\n",
        "#our two highest grossing out and our mean has dropped by 8 million"
      ],
      "execution_count": 226,
      "outputs": [
        {
          "output_type": "execute_result",
          "data": {
            "text/plain": [
              "22.33333333333334"
            ]
          },
          "metadata": {
            "tags": []
          },
          "execution_count": 226
        }
      ]
    },
    {
      "cell_type": "markdown",
      "metadata": {
        "id": "CaR4mrHq4a5x",
        "colab_type": "text"
      },
      "source": [
        "####Tickets per show"
      ]
    },
    {
      "cell_type": "code",
      "metadata": {
        "id": "APiVm2Ft4th1",
        "colab_type": "code",
        "colab": {
          "base_uri": "https://localhost:8080/",
          "height": 35
        },
        "outputId": "18fb00e1-77e4-4a3c-c1cc-56f9811ba624"
      },
      "source": [
        "older_musicians['Average Tickets'].mean()"
      ],
      "execution_count": 227,
      "outputs": [
        {
          "output_type": "execute_result",
          "data": {
            "text/plain": [
              "9535.6"
            ]
          },
          "metadata": {
            "tags": []
          },
          "execution_count": 227
        }
      ]
    },
    {
      "cell_type": "code",
      "metadata": {
        "id": "ezoWMgMf41iL",
        "colab_type": "code",
        "colab": {
          "base_uri": "https://localhost:8080/",
          "height": 35
        },
        "outputId": "b2dfb520-93cb-44b0-f1be-d9a20b668046"
      },
      "source": [
        "ig_famous['Average Tickets'].mean()\n",
        "\n",
        "#The top 50 instagram famous people tend to sell an average of 4,004 more tickets than the top 50 oldest musicians"
      ],
      "execution_count": 228,
      "outputs": [
        {
          "output_type": "execute_result",
          "data": {
            "text/plain": [
              "13540.06"
            ]
          },
          "metadata": {
            "tags": []
          },
          "execution_count": 228
        }
      ]
    },
    {
      "cell_type": "markdown",
      "metadata": {
        "id": "3D8-4gQCBOWS",
        "colab_type": "text"
      },
      "source": [
        "####Total Tickets"
      ]
    },
    {
      "cell_type": "code",
      "metadata": {
        "id": "BU5pNCCCBXeY",
        "colab_type": "code",
        "colab": {
          "base_uri": "https://localhost:8080/",
          "height": 35
        },
        "outputId": "b747f9c7-0eab-4e9b-8696-48799e3f610b"
      },
      "source": [
        "older_musicians['Total Tickets'].mean()"
      ],
      "execution_count": 229,
      "outputs": [
        {
          "output_type": "execute_result",
          "data": {
            "text/plain": [
              "555509.66"
            ]
          },
          "metadata": {
            "tags": []
          },
          "execution_count": 229
        }
      ]
    },
    {
      "cell_type": "code",
      "metadata": {
        "id": "kbLs41enBQvi",
        "colab_type": "code",
        "colab": {
          "base_uri": "https://localhost:8080/",
          "height": 35
        },
        "outputId": "640c8646-7c86-4c6a-fe98-76474cbe72cf"
      },
      "source": [
        "ig_famous['Total Tickets'].mean()\n",
        "#insta famous musicians sold an average of 108,273 tickets less than older musicians "
      ],
      "execution_count": 230,
      "outputs": [
        {
          "output_type": "execute_result",
          "data": {
            "text/plain": [
              "447236.46"
            ]
          },
          "metadata": {
            "tags": []
          },
          "execution_count": 230
        }
      ]
    },
    {
      "cell_type": "markdown",
      "metadata": {
        "id": "nVnq3KiQ5YTd",
        "colab_type": "text"
      },
      "source": [
        "####Ticket price"
      ]
    },
    {
      "cell_type": "code",
      "metadata": {
        "id": "COX2EX7Q5aQx",
        "colab_type": "code",
        "colab": {
          "base_uri": "https://localhost:8080/",
          "height": 35
        },
        "outputId": "f94b46c4-075a-4e45-92d7-ded46f9deb51"
      },
      "source": [
        "older_musicians['Average Ticket Price'].mean()"
      ],
      "execution_count": 231,
      "outputs": [
        {
          "output_type": "execute_result",
          "data": {
            "text/plain": [
              "91.86959999999998"
            ]
          },
          "metadata": {
            "tags": []
          },
          "execution_count": 231
        }
      ]
    },
    {
      "cell_type": "code",
      "metadata": {
        "id": "0nXmqLaG5kIR",
        "colab_type": "code",
        "colab": {
          "base_uri": "https://localhost:8080/",
          "height": 35
        },
        "outputId": "4c72a1e0-be24-4ca3-fc9f-381d4f03547e"
      },
      "source": [
        "ig_famous['Average Ticket Price'].mean()\n",
        "\n",
        "\n",
        "#older musicians tend to charge about $7 more per ticket than instagram famous"
      ],
      "execution_count": 232,
      "outputs": [
        {
          "output_type": "execute_result",
          "data": {
            "text/plain": [
              "84.53260000000002"
            ]
          },
          "metadata": {
            "tags": []
          },
          "execution_count": 232
        }
      ]
    },
    {
      "cell_type": "markdown",
      "metadata": {
        "id": "0dTFVT-r5yzL",
        "colab_type": "text"
      },
      "source": [
        "####Number of members"
      ]
    },
    {
      "cell_type": "code",
      "metadata": {
        "id": "WhbY5JhN51bP",
        "colab_type": "code",
        "colab": {
          "base_uri": "https://localhost:8080/",
          "height": 35
        },
        "outputId": "c53d4f62-e205-435d-a5a0-7b6169fcf0ce"
      },
      "source": [
        "older_musicians['Number of Members'].mean()"
      ],
      "execution_count": 233,
      "outputs": [
        {
          "output_type": "execute_result",
          "data": {
            "text/plain": [
              "3.54"
            ]
          },
          "metadata": {
            "tags": []
          },
          "execution_count": 233
        }
      ]
    },
    {
      "cell_type": "code",
      "metadata": {
        "id": "Wi9cD6y958lA",
        "colab_type": "code",
        "colab": {
          "base_uri": "https://localhost:8080/",
          "height": 35
        },
        "outputId": "fdb3e2e9-2634-4971-a134-bbdfaaf33ff3"
      },
      "source": [
        "ig_famous['Number of Members'].mean()\n",
        "\n",
        "#insta famous musicians have less band members than older musicians"
      ],
      "execution_count": 234,
      "outputs": [
        {
          "output_type": "execute_result",
          "data": {
            "text/plain": [
              "1.9361702127659575"
            ]
          },
          "metadata": {
            "tags": []
          },
          "execution_count": 234
        }
      ]
    },
    {
      "cell_type": "markdown",
      "metadata": {
        "id": "t68wtv04DU1u",
        "colab_type": "text"
      },
      "source": [
        "####Comparing ig_famous and older_musicians shows vs cities"
      ]
    },
    {
      "cell_type": "code",
      "metadata": {
        "id": "KvgCXu1wDf6B",
        "colab_type": "code",
        "colab": {
          "base_uri": "https://localhost:8080/",
          "height": 35
        },
        "outputId": "50fcc9fe-9236-43f1-996d-50881c5b98cc"
      },
      "source": [
        "((older_musicians['Shows'].dropna(axis=0)).astype(int)).mean()"
      ],
      "execution_count": 235,
      "outputs": [
        {
          "output_type": "execute_result",
          "data": {
            "text/plain": [
              "34.76190476190476"
            ]
          },
          "metadata": {
            "tags": []
          },
          "execution_count": 235
        }
      ]
    },
    {
      "cell_type": "code",
      "metadata": {
        "id": "o76dot4Obh4h",
        "colab_type": "code",
        "colab": {
          "base_uri": "https://localhost:8080/",
          "height": 35
        },
        "outputId": "3aedad63-ef30-438f-df5f-4f1b8a5038ea"
      },
      "source": [
        "((ig_famous['Shows'].dropna(axis=0)).astype(int)).mean()"
      ],
      "execution_count": 236,
      "outputs": [
        {
          "output_type": "execute_result",
          "data": {
            "text/plain": [
              "46.470588235294116"
            ]
          },
          "metadata": {
            "tags": []
          },
          "execution_count": 236
        }
      ]
    },
    {
      "cell_type": "code",
      "metadata": {
        "id": "wO8J8nk1geSB",
        "colab_type": "code",
        "colab": {
          "base_uri": "https://localhost:8080/",
          "height": 35
        },
        "outputId": "729cf8bb-858d-42e4-df00-955ccce35ca9"
      },
      "source": [
        "((older_musicians['Cities'].dropna(axis=0)).astype(int)).mean()"
      ],
      "execution_count": 237,
      "outputs": [
        {
          "output_type": "execute_result",
          "data": {
            "text/plain": [
              "27.523809523809526"
            ]
          },
          "metadata": {
            "tags": []
          },
          "execution_count": 237
        }
      ]
    },
    {
      "cell_type": "code",
      "metadata": {
        "id": "cEPMnu8Ngg7l",
        "colab_type": "code",
        "colab": {
          "base_uri": "https://localhost:8080/",
          "height": 35
        },
        "outputId": "0d8ae6a4-f922-4f75-e30f-226f2023717e"
      },
      "source": [
        "((ig_famous['Cities'].dropna(axis=0)).astype(int)).mean()"
      ],
      "execution_count": 238,
      "outputs": [
        {
          "output_type": "execute_result",
          "data": {
            "text/plain": [
              "31.470588235294116"
            ]
          },
          "metadata": {
            "tags": []
          },
          "execution_count": 238
        }
      ]
    },
    {
      "cell_type": "markdown",
      "metadata": {
        "id": "U42O2sKoCUZj",
        "colab_type": "text"
      },
      "source": [
        "####Out of the oldest musicians, do those with the most instagram followers make more money than musicians with the most followers in general?\n",
        "\n",
        "\n",
        "\n",
        "\n",
        "\n",
        "\n",
        "\n",
        "\n",
        "(no)"
      ]
    },
    {
      "cell_type": "code",
      "metadata": {
        "id": "vrEekSkuEtDX",
        "colab_type": "code",
        "colab": {
          "base_uri": "https://localhost:8080/",
          "height": 395
        },
        "outputId": "c5d70f92-1e64-4c72-d334-6637559e7c2c"
      },
      "source": [
        "oldest_ig_musicians = pd.merge(older_musicians, ig_famous, how= 'outer', on='Rank')\n",
        "print(oldest_ig_musicians.shape)\n",
        "\n",
        "oldest_ig_musicians.head()\n"
      ],
      "execution_count": 239,
      "outputs": [
        {
          "output_type": "stream",
          "text": [
            "(98, 27)\n"
          ],
          "name": "stdout"
        },
        {
          "output_type": "execute_result",
          "data": {
            "text/html": [
              "<div>\n",
              "<style scoped>\n",
              "    .dataframe tbody tr th:only-of-type {\n",
              "        vertical-align: middle;\n",
              "    }\n",
              "\n",
              "    .dataframe tbody tr th {\n",
              "        vertical-align: top;\n",
              "    }\n",
              "\n",
              "    .dataframe thead th {\n",
              "        text-align: right;\n",
              "    }\n",
              "</style>\n",
              "<table border=\"1\" class=\"dataframe\">\n",
              "  <thead>\n",
              "    <tr style=\"text-align: right;\">\n",
              "      <th></th>\n",
              "      <th>Rank</th>\n",
              "      <th>Cities_x</th>\n",
              "      <th>Shows_x</th>\n",
              "      <th>Gross Millions_x</th>\n",
              "      <th>Artist_x</th>\n",
              "      <th>Average Ticket Price_x</th>\n",
              "      <th>Average Tickets_x</th>\n",
              "      <th>Total Tickets_x</th>\n",
              "      <th>Average Gross_x</th>\n",
              "      <th>Cities/Shows_x</th>\n",
              "      <th>Agency_x</th>\n",
              "      <th>Number of Members_x</th>\n",
              "      <th>Instagram Followers_x</th>\n",
              "      <th>Years Active_x</th>\n",
              "      <th>Cities_y</th>\n",
              "      <th>Shows_y</th>\n",
              "      <th>Gross Millions_y</th>\n",
              "      <th>Artist_y</th>\n",
              "      <th>Average Ticket Price_y</th>\n",
              "      <th>Average Tickets_y</th>\n",
              "      <th>Total Tickets_y</th>\n",
              "      <th>Average Gross_y</th>\n",
              "      <th>Cities/Shows_y</th>\n",
              "      <th>Agency_y</th>\n",
              "      <th>Number of Members_y</th>\n",
              "      <th>Instagram Followers_y</th>\n",
              "      <th>Years Active_y</th>\n",
              "    </tr>\n",
              "  </thead>\n",
              "  <tbody>\n",
              "    <tr>\n",
              "      <th>0</th>\n",
              "      <td>44</td>\n",
              "      <td>34</td>\n",
              "      <td>34</td>\n",
              "      <td>25.8</td>\n",
              "      <td>Rod Stewart</td>\n",
              "      <td>83.58</td>\n",
              "      <td>11417.0</td>\n",
              "      <td>308266.0</td>\n",
              "      <td>954282.0</td>\n",
              "      <td>27/28</td>\n",
              "      <td>Artist Group International</td>\n",
              "      <td>1.0</td>\n",
              "      <td>347000.0</td>\n",
              "      <td>68.0</td>\n",
              "      <td>NaN</td>\n",
              "      <td>NaN</td>\n",
              "      <td>NaN</td>\n",
              "      <td>NaN</td>\n",
              "      <td>NaN</td>\n",
              "      <td>NaN</td>\n",
              "      <td>NaN</td>\n",
              "      <td>NaN</td>\n",
              "      <td>NaN</td>\n",
              "      <td>NaN</td>\n",
              "      <td>NaN</td>\n",
              "      <td>NaN</td>\n",
              "      <td>NaN</td>\n",
              "    </tr>\n",
              "    <tr>\n",
              "      <th>1</th>\n",
              "      <td>41</td>\n",
              "      <td>39</td>\n",
              "      <td>39</td>\n",
              "      <td>27.5</td>\n",
              "      <td>Paul Simon</td>\n",
              "      <td>98.07</td>\n",
              "      <td>13329.0</td>\n",
              "      <td>279919.0</td>\n",
              "      <td>1307250.0</td>\n",
              "      <td>21/24</td>\n",
              "      <td>Creative Artists Agency</td>\n",
              "      <td>1.0</td>\n",
              "      <td>36300.0</td>\n",
              "      <td>63.0</td>\n",
              "      <td>NaN</td>\n",
              "      <td>NaN</td>\n",
              "      <td>NaN</td>\n",
              "      <td>NaN</td>\n",
              "      <td>NaN</td>\n",
              "      <td>NaN</td>\n",
              "      <td>NaN</td>\n",
              "      <td>NaN</td>\n",
              "      <td>NaN</td>\n",
              "      <td>NaN</td>\n",
              "      <td>NaN</td>\n",
              "      <td>NaN</td>\n",
              "      <td>NaN</td>\n",
              "    </tr>\n",
              "    <tr>\n",
              "      <th>2</th>\n",
              "      <td>79</td>\n",
              "      <td>14</td>\n",
              "      <td>95</td>\n",
              "      <td>16.1</td>\n",
              "      <td>Willie Nelson</td>\n",
              "      <td>66.81</td>\n",
              "      <td>5123.0</td>\n",
              "      <td>240767.0</td>\n",
              "      <td>342229.0</td>\n",
              "      <td>47/50</td>\n",
              "      <td>Creative Artists Agency</td>\n",
              "      <td>1.0</td>\n",
              "      <td>546000.0</td>\n",
              "      <td>63.0</td>\n",
              "      <td>NaN</td>\n",
              "      <td>NaN</td>\n",
              "      <td>NaN</td>\n",
              "      <td>NaN</td>\n",
              "      <td>NaN</td>\n",
              "      <td>NaN</td>\n",
              "      <td>NaN</td>\n",
              "      <td>NaN</td>\n",
              "      <td>NaN</td>\n",
              "      <td>NaN</td>\n",
              "      <td>NaN</td>\n",
              "      <td>NaN</td>\n",
              "      <td>NaN</td>\n",
              "    </tr>\n",
              "    <tr>\n",
              "      <th>3</th>\n",
              "      <td>128</td>\n",
              "      <td>NaN</td>\n",
              "      <td>NaN</td>\n",
              "      <td>9.0</td>\n",
              "      <td>Paul McCartney</td>\n",
              "      <td>152.96</td>\n",
              "      <td>14748.0</td>\n",
              "      <td>2255797.0</td>\n",
              "      <td>NaN</td>\n",
              "      <td>NaN</td>\n",
              "      <td>NaN</td>\n",
              "      <td>1.0</td>\n",
              "      <td>2700000.0</td>\n",
              "      <td>62.0</td>\n",
              "      <td>NaN</td>\n",
              "      <td>NaN</td>\n",
              "      <td>NaN</td>\n",
              "      <td>NaN</td>\n",
              "      <td>NaN</td>\n",
              "      <td>NaN</td>\n",
              "      <td>NaN</td>\n",
              "      <td>NaN</td>\n",
              "      <td>NaN</td>\n",
              "      <td>NaN</td>\n",
              "      <td>NaN</td>\n",
              "      <td>NaN</td>\n",
              "      <td>NaN</td>\n",
              "    </tr>\n",
              "    <tr>\n",
              "      <th>4</th>\n",
              "      <td>125</td>\n",
              "      <td>NaN</td>\n",
              "      <td>NaN</td>\n",
              "      <td>9.3</td>\n",
              "      <td>Van Morrison</td>\n",
              "      <td>155.88</td>\n",
              "      <td>7475.0</td>\n",
              "      <td>1165136.0</td>\n",
              "      <td>NaN</td>\n",
              "      <td>NaN</td>\n",
              "      <td>NaN</td>\n",
              "      <td>1.0</td>\n",
              "      <td>36700.0</td>\n",
              "      <td>61.0</td>\n",
              "      <td>NaN</td>\n",
              "      <td>NaN</td>\n",
              "      <td>NaN</td>\n",
              "      <td>NaN</td>\n",
              "      <td>NaN</td>\n",
              "      <td>NaN</td>\n",
              "      <td>NaN</td>\n",
              "      <td>NaN</td>\n",
              "      <td>NaN</td>\n",
              "      <td>NaN</td>\n",
              "      <td>NaN</td>\n",
              "      <td>NaN</td>\n",
              "      <td>NaN</td>\n",
              "    </tr>\n",
              "  </tbody>\n",
              "</table>\n",
              "</div>"
            ],
            "text/plain": [
              "   Rank Cities_x  ... Instagram Followers_y  Years Active_y\n",
              "0    44       34  ...                   NaN             NaN\n",
              "1    41       39  ...                   NaN             NaN\n",
              "2    79       14  ...                   NaN             NaN\n",
              "3   128      NaN  ...                   NaN             NaN\n",
              "4   125      NaN  ...                   NaN             NaN\n",
              "\n",
              "[5 rows x 27 columns]"
            ]
          },
          "metadata": {
            "tags": []
          },
          "execution_count": 239
        }
      ]
    },
    {
      "cell_type": "code",
      "metadata": {
        "id": "nhV5bhB0J3c3",
        "colab_type": "code",
        "colab": {
          "base_uri": "https://localhost:8080/",
          "height": 35
        },
        "outputId": "39f960c6-d762-4095-b8ce-1e6c68b832c8"
      },
      "source": [
        "oldest_ig_musicians['Gross Millions_x'].mean()\n",
        "\n",
        "#the oldest musicians with the most insta followers still made less\n",
        "#than average compared to the top 100 in general and the dataset overall"
      ],
      "execution_count": 240,
      "outputs": [
        {
          "output_type": "execute_result",
          "data": {
            "text/plain": [
              "18.247999999999998"
            ]
          },
          "metadata": {
            "tags": []
          },
          "execution_count": 240
        }
      ]
    },
    {
      "cell_type": "code",
      "metadata": {
        "id": "P3V8sbC5Kf0T",
        "colab_type": "code",
        "colab": {
          "base_uri": "https://localhost:8080/",
          "height": 35
        },
        "outputId": "fef8a428-2402-4a01-bcb0-7adf2f699d09"
      },
      "source": [
        "tours['Gross Millions'].mean()"
      ],
      "execution_count": 241,
      "outputs": [
        {
          "output_type": "execute_result",
          "data": {
            "text/plain": [
              "22.20049999999999"
            ]
          },
          "metadata": {
            "tags": []
          },
          "execution_count": 241
        }
      ]
    },
    {
      "cell_type": "markdown",
      "metadata": {
        "id": "F_Xv1uND1XTN",
        "colab_type": "text"
      },
      "source": [
        "##Graph workspace "
      ]
    },
    {
      "cell_type": "code",
      "metadata": {
        "id": "fzC8P0Zqj3fV",
        "colab_type": "code",
        "outputId": "1d3c00e9-9841-466c-ccfe-acc3df58fa3b",
        "colab": {
          "base_uri": "https://localhost:8080/",
          "height": 295
        }
      },
      "source": [
        "fig, ax = plt.subplots()\n",
        "x, y, s=older_musicians['Instagram Followers'], older_musicians['Years Active'], older_musicians['Gross Millions']\n",
        "\n",
        "\n",
        "plt.scatter(x, y, s ,c=s ,cmap=\"YlOrRd\", alpha=0.4, edgecolors=\"grey\", linewidth=2)\n",
        "\n",
        "ax.set_title('50 Most Experienced Musicians')\n",
        "plt.xlabel('Instagram Followers in Tens of Millions')\n",
        "plt.ylabel('Years Active')\n",
        "plt.show()\n"
      ],
      "execution_count": 242,
      "outputs": [
        {
          "output_type": "display_data",
          "data": {
            "image/png": "[encoded data removed]",
            "text/plain": [
              "<Figure size 432x288 with 1 Axes>"
            ]
          },
          "metadata": {
            "tags": []
          }
        }
      ]
    },
    {
      "cell_type": "code",
      "metadata": {
        "id": "tvPWgqS4hLtv",
        "colab_type": "code",
        "colab": {
          "base_uri": "https://localhost:8080/",
          "height": 295
        },
        "outputId": "011c94aa-e7e2-447b-c26a-9be397fcb343"
      },
      "source": [
        "fig, ax = plt.subplots()\n",
        "x, y, s=ig_famous['Instagram Followers'], ig_famous['Years Active'], ig_famous['Gross Millions']\n",
        "\n",
        "\n",
        "plt.scatter(x, y, s ,c=s ,cmap=\"YlOrRd\", alpha=0.4, edgecolors=\"grey\", linewidth=2)\n",
        "\n",
        "ax.set_title('50 Most Popular Artists on Instagram')\n",
        "plt.xlabel('Instagram Followers in Hundreds of Millions')\n",
        "plt.ylabel('Years Active')\n",
        "plt.show()"
      ],
      "execution_count": 243,
      "outputs": [
        {
          "output_type": "display_data",
          "data": {
            "image/png": "[encoded data removed]",
            "text/plain": [
              "<Figure size 432x288 with 1 Axes>"
            ]
          },
          "metadata": {
            "tags": []
          }
        }
      ]
    },
    {
      "cell_type": "code",
      "metadata": {
        "id": "GPVpE_NRqFdw",
        "colab_type": "code",
        "colab": {
          "base_uri": "https://localhost:8080/",
          "height": 293
        },
        "outputId": "bec55e0a-c7fa-434f-d327-8ef626c18c82"
      },
      "source": [
        "fig, ax = plt.subplots()\n",
        "x, y=tours2['Instagram Followers'],tours2['Gross Millions']\n",
        "\n",
        "\n",
        "plt.scatter(x, y,cmap=\"YlOrRd\", alpha=0.4, edgecolors=\"grey\", linewidth=2)\n",
        "\n",
        "ax.set_title('Does more Instagram followers mean making more money?', fontsize=11)\n",
        "plt.xlabel('Instagram Followers in Hundreds of Millions')\n",
        "plt.ylabel('Gross Millions')\n",
        "plt.show()"
      ],
      "execution_count": 244,
      "outputs": [
        {
          "output_type": "display_data",
          "data": {
            "image/png": "[encoded data removed]",
            "text/plain": [
              "<Figure size 432x288 with 1 Axes>"
            ]
          },
          "metadata": {
            "tags": []
          }
        }
      ]
    },
    {
      "cell_type": "code",
      "metadata": {
        "id": "ikt8mXy7rlRu",
        "colab_type": "code",
        "colab": {
          "base_uri": "https://localhost:8080/",
          "height": 293
        },
        "outputId": "fbaf3ab4-bbe9-483d-adc2-83d87691cb8e"
      },
      "source": [
        "fig, ax = plt.subplots()\n",
        "x, y=tours2['Instagram Followers'],tours2['Average Ticket Price']\n",
        "\n",
        "\n",
        "plt.scatter(x, y,c='r', alpha=0.4, edgecolors=\"grey\", linewidth=2)\n",
        "\n",
        "ax.set_title('Does having more followers mean a higher ticket price?', fontsize=11)\n",
        "plt.xlabel('Instagram Followers in Hundreds of Millions')\n",
        "plt.ylabel('Average Ticket Price')\n",
        "plt.show()"
      ],
      "execution_count": 245,
      "outputs": [
        {
          "output_type": "display_data",
          "data": {
            "image/png": "[encoded data removed]",
            "text/plain": [
              "<Figure size 432x288 with 1 Axes>"
            ]
          },
          "metadata": {
            "tags": []
          }
        }
      ]
    },
    {
      "cell_type": "code",
      "metadata": {
        "id": "48118oqYpiLd",
        "colab_type": "code",
        "colab": {
          "base_uri": "https://localhost:8080/",
          "height": 281
        },
        "outputId": "7499e74d-0a99-4e5a-92fc-8117c7d932bb"
      },
      "source": [
        "x = (tours2['Rank'][0:10])\n",
        "y= (tours2['Years Active'][0:10])\n",
        "\n",
        "p= plt.barh(x, y, align='center', alpha=0.5, color='#0066ff')\n",
        "\n",
        "plt.xticks([5, 10, 15, 20, 25, 30, 35, 40, 45, 50, 55, 60])\n",
        "plt.yticks([1, 2, 3, 4, 5, 6, 7, 8, 9, 10])\n",
        "plt.ylabel('Artist Rank')\n",
        "plt.title(\"Top Ten Artists' Years of Experience\")\n",
        "\n",
        "plt.show()"
      ],
      "execution_count": 246,
      "outputs": [
        {
          "output_type": "display_data",
          "data": {
            "image/png": "[encoded data removed]",
            "text/plain": [
              "<Figure size 432x288 with 1 Axes>"
            ]
          },
          "metadata": {
            "tags": []
          }
        }
      ]
    }
  ]
}